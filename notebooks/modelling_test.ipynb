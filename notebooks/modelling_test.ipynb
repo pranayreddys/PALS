{
    "cells": [
        {
            "cell_type": "code",
            "execution_count": null,
            "source": [
                "\"\"\"This notebook is meant as a simple visualization tool for visualizing time series predictions. Change the path\n",
                "of the read_csv command below to read predictions of the TimeSeries model, and visualize the same.\n",
                "\"\"\"\n",
                "import pandas as pd\n",
                "from matplotlib import pyplot\n",
                "import numpy as np\n",
                "pd.options.mode.chained_assignment = None\n",
                "df = pd.read_csv(\"../misc/tp.csv\")\n",
                "df.sort_values('time', inplace=True, ignore_index=True)\n",
                "variable_list = ['sbp'] \n",
                "for var in variable_list:\n",
                "    df['predicted_' + var] = np.NaN\n",
                "context_window = 6\n",
                "forecast_horizon_num = 1\n",
                "for user_id, df_temp2 in df.groupby('user_id'):\n",
                "    df_temp = df_temp2.copy()\n",
                "    for var in variable_list:\n",
                "        df_temp['predicted_' + var].iloc[(context_window-1+forecast_horizon_num):] = df_temp['VariableName.' + var + '_horizon_'+str(forecast_horizon_num)+'_predict'].iloc[:-(context_window-1+forecast_horizon_num)]\n",
                "        df_temp['time'] = np.array(list(range(df_temp.shape[0])))\n",
                "        df_temp[['time', 'predicted_' + var, 'VariableName.' + var]].plot(x='time')"
            ],
            "outputs": [],
            "metadata": {}
        }
    ],
    "metadata": {
        "orig_nbformat": 4,
        "language_info": {
            "name": "python",
            "version": "3.9.5",
            "mimetype": "text/x-python",
            "codemirror_mode": {
                "name": "ipython",
                "version": 3
            },
            "pygments_lexer": "ipython3",
            "nbconvert_exporter": "python",
            "file_extension": ".py"
        },
        "kernelspec": {
            "name": "python3",
            "display_name": "Python 3.9.5 64-bit ('google': conda)"
        },
        "interpreter": {
            "hash": "04b322b04a11552240b2f4f8e8c4a475f614a960ee047c69be7c3988f5002b11"
        }
    },
    "nbformat": 4,
    "nbformat_minor": 2
}