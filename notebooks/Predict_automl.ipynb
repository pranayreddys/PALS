{
 "cells": [
  {
   "cell_type": "code",
   "execution_count": null,
   "id": "066cb36e",
   "metadata": {
    "id": "0158e2bf"
   },
   "outputs": [],
   "source": [
    "from typing import Generic, TypeVar, Optional, List, Dict\n",
    "from pydantic import BaseModel, parse_file_as\n",
    "from google.cloud import aiplatform\n",
    "from pathlib import Path\n",
    "import os\n",
    "class Setup(BaseModel):\n",
    "    project_id: str\n",
    "    region: Optional[str] \n",
    "    staging_bucket_name: str\n",
    "    def init_ai(self):\n",
    "        aiplatform.init(project=self.project_id, staging_bucket=self.staging_bucket_name)\n",
    "\n",
    "\n",
    "# For aiplatform API guide refer https://googleapis.dev/python/aiplatform/latest/aiplatform.html\n",
    "class Predict(BaseModel):\n",
    "    # Expected input: Time series data. For those points that need to be predicted, leave target_column blank.\n",
    "    # Note that if such points occur in the first \"context_window\" points used for training, errors occur.\n",
    "    \n",
    "    job_display_name: str # Display name of the prediction job\n",
    "    model_name: str # Stores the ID of the model\n",
    "    \n",
    "    instances_format: str \n",
    "    # Instances for prediction, options “jsonl”, “csv”, “bigquery”, “tf-record”, “tf-record-gzip”, or “file-list”\n",
    "    \n",
    "    predictions_format: str \n",
    "    # Format that Vertex AI gives predictions, options “jsonl”, “csv”, or “bigquery”\n",
    "    \n",
    "    is_gcs_source: Optional[bool] = True \n",
    "    # If source of the instances is gcs True, if bigquery then False\n",
    "    \n",
    "    is_gcs_dest: Optional[bool] = True \n",
    "    # If the dump of the predictions is to be in GCS then True, else False\n",
    "    \n",
    "    source: str # Source URL\n",
    "    \n",
    "    destination_prefix: str \n",
    "    # Predictions will be dumped. Note that bucket used here must be single-region and in the same region as model.\n",
    "    \n",
    "    def run(self):\n",
    "        attrs = vars(self).keys()\n",
    "        params = {attr: getattr(self, attr) for attr in attrs if attr not in [\"is_gcs_source\", \"is_gcs_dest\", \"source\", \"destination_prefix\"]}\n",
    "        if self.is_gcs_source:\n",
    "            params[\"gcs_source\"] = self.source\n",
    "        else:\n",
    "            params[\"bigquery_source\"] = self.source\n",
    "        if self.is_gcs_dest:\n",
    "            params[\"gcs_destination_prefix\"] = self.destination_prefix\n",
    "        else:\n",
    "            params[\"bigquery_destination_prefix\"] = self.destination_prefix\n",
    "        aiplatform.BatchPredictionJob.create(**params)\n",
    "\n",
    "class Main(BaseModel):\n",
    "    setup: Setup\n",
    "    prediction_job: Predict\n",
    "    def run(self):\n",
    "        os.system(\"gcloud config set project \" + self.setup.project_id)\n",
    "        self.setup.init_ai()\n",
    "        self.prediction_job.run()\n",
    "\n",
    "filepath = \"predict_automl_config.json\" # Config file path for predictions\n",
    "main_func = parse_file_as(Main, filepath)\n",
    "main_func.run()"
   ]
  }
 ],
 "metadata": {
  "colab": {
   "name": "Predict_automl.ipynb",
   "provenance": []
  },
  "environment": {
   "name": "tf2-gpu.2-3.m74",
   "type": "gcloud",
   "uri": "gcr.io/deeplearning-platform-release/tf2-gpu.2-3:m74"
  },
  "kernelspec": {
   "display_name": "Python 3",
   "language": "python",
   "name": "python3"
  },
  "language_info": {
   "codemirror_mode": {
    "name": "ipython",
    "version": 3
   },
   "file_extension": ".py",
   "mimetype": "text/x-python",
   "name": "python",
   "nbconvert_exporter": "python",
   "pygments_lexer": "ipython3",
   "version": "3.7.10"
  }
 },
 "nbformat": 4,
 "nbformat_minor": 5
}
