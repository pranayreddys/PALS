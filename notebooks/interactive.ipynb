{
    "cells": [
        {
            "cell_type": "code",
            "execution_count": 1,
            "source": [
                "%load_ext autoreload\n",
                "%autoreload 2"
            ],
            "outputs": [],
            "metadata": {}
        },
        {
            "cell_type": "code",
            "execution_count": 2,
            "source": [
                "import argparse\n",
                "from pydantic import parse_file_as\n",
                "import sys\n",
                "sys.path.append(\"..\")\n",
                "sys.path.append(\"../src\")\n",
                "from runners.model_runner import Runner\n",
                "from utils.read_write_utils import is_file\n",
                "from numpy.random import seed\n",
                "seed(1)\n",
                "import tensorflow as tf\n",
                "tf.random.set_seed(2)\n",
                "import random\n",
                "random.seed(3)\n",
                "import os\n",
                "os.environ['PYTHONHASHSEED'] = '0'"
            ],
            "outputs": [],
            "metadata": {}
        },
        {
            "cell_type": "code",
            "execution_count": 3,
            "source": [
                "config_path = \"../configs/tp3.json\"\n",
                "r = parse_file_as(Runner, config_path)\n",
                "r.run()"
            ],
            "outputs": [
                {
                    "output_type": "stream",
                    "name": "stderr",
                    "text": [
                        "/home/pranay/anaconda3/envs/google/lib/python3.9/site-packages/ipykernel/ipkernel.py:287: DeprecationWarning: `should_run_async` will not call `transform_cell` automatically in the future. Please pass the result to `transformed_cell` argument and any exception that happen during thetransform in `preprocessing_exc_tuple` in IPython 7.17 and above.\n",
                        "  and should_run_async(code)\n"
                    ]
                },
                {
                    "output_type": "stream",
                    "name": "stdout",
                    "text": [
                        "Epoch 1/10\n",
                        "60/60 [==============================] - 3s 43ms/step - loss: 0.4947 - mean_squared_error: 0.7129 - mean_squared_logarithmic_error: 0.0538\n",
                        "Epoch 2/10\n",
                        "60/60 [==============================] - 3s 46ms/step - loss: 0.1598 - mean_squared_error: 0.0523 - mean_squared_logarithmic_error: 0.0070\n",
                        "Epoch 3/10\n",
                        "60/60 [==============================] - 3s 46ms/step - loss: 0.2695 - mean_squared_error: 0.1655 - mean_squared_logarithmic_error: 0.0218\n",
                        "Epoch 4/10\n",
                        "60/60 [==============================] - 3s 48ms/step - loss: 0.2484 - mean_squared_error: 0.1241 - mean_squared_logarithmic_error: 0.0173\n",
                        "Epoch 5/10\n",
                        "60/60 [==============================] - 3s 48ms/step - loss: 0.2217 - mean_squared_error: 0.0941 - mean_squared_logarithmic_error: 0.0132\n",
                        "Epoch 6/10\n",
                        "60/60 [==============================] - 3s 48ms/step - loss: 0.1472 - mean_squared_error: 0.0431 - mean_squared_logarithmic_error: 0.0074\n",
                        "Epoch 7/10\n",
                        "60/60 [==============================] - 3s 53ms/step - loss: 0.2063 - mean_squared_error: 0.0812 - mean_squared_logarithmic_error: 0.0120\n",
                        "Epoch 8/10\n",
                        "60/60 [==============================] - 3s 54ms/step - loss: 0.3158 - mean_squared_error: 0.2988 - mean_squared_logarithmic_error: 0.0362\n",
                        "Epoch 9/10\n",
                        "60/60 [==============================] - 3s 53ms/step - loss: 0.1640 - mean_squared_error: 0.0500 - mean_squared_logarithmic_error: 0.0071\n",
                        "Epoch 10/10\n",
                        "60/60 [==============================] - 3s 53ms/step - loss: 0.1981 - mean_squared_error: 0.0777 - mean_squared_logarithmic_error: 0.0113\n",
                        "1/1 [==============================] - 0s 323ms/step - loss: 0.1053 - mean_squared_error: 0.0177 - mean_squared_logarithmic_error: 0.0055\n",
                        "1/1 [==============================] - 0s 304ms/step - loss: 0.1244 - mean_squared_error: 0.0256 - mean_squared_logarithmic_error: 0.0067\n",
                        "1/1 [==============================] - 0s 362ms/step - loss: 0.1083 - mean_squared_error: 0.0240 - mean_squared_logarithmic_error: 0.0073\n",
                        "1/1 [==============================] - 0s 362ms/step - loss: 0.1309 - mean_squared_error: 0.0299 - mean_squared_logarithmic_error: 0.0094\n",
                        "1/1 [==============================] - 0s 294ms/step - loss: 0.1080 - mean_squared_error: 0.0204 - mean_squared_logarithmic_error: 0.0000e+00\n",
                        "1/1 [==============================] - 0s 324ms/step - loss: 0.1144 - mean_squared_error: 0.0198 - mean_squared_logarithmic_error: 0.0051\n",
                        "1/1 [==============================] - 0s 314ms/step - loss: 0.1162 - mean_squared_error: 0.0230 - mean_squared_logarithmic_error: 0.0069\n",
                        "1/1 [==============================] - 0s 308ms/step - loss: 0.1064 - mean_squared_error: 0.0179 - mean_squared_logarithmic_error: 0.0046\n",
                        "1/1 [==============================] - 0s 327ms/step - loss: 0.1183 - mean_squared_error: 0.0231 - mean_squared_logarithmic_error: 0.0049\n",
                        "1/1 [==============================] - 0s 352ms/step - loss: 0.1081 - mean_squared_error: 0.0204 - mean_squared_logarithmic_error: 0.0000e+00\n",
                        "1/1 [==============================] - 0s 322ms/step - loss: 0.1242 - mean_squared_error: 0.0244 - mean_squared_logarithmic_error: 0.0065\n",
                        "1/1 [==============================] - 0s 374ms/step - loss: 0.1053 - mean_squared_error: 0.0185 - mean_squared_logarithmic_error: 0.0000e+00\n",
                        "1/1 [==============================] - 0s 308ms/step - loss: 0.1337 - mean_squared_error: 0.0302 - mean_squared_logarithmic_error: 0.0047\n",
                        "1/1 [==============================] - 0s 343ms/step - loss: 0.1315 - mean_squared_error: 0.0331 - mean_squared_logarithmic_error: 0.0052\n",
                        "1/1 [==============================] - 0s 276ms/step - loss: 0.1234 - mean_squared_error: 0.0244 - mean_squared_logarithmic_error: 3.3941e-04\n",
                        "1/1 [==============================] - 0s 329ms/step - loss: 0.1388 - mean_squared_error: 0.0288 - mean_squared_logarithmic_error: 0.0000e+00\n",
                        "1/1 [==============================] - 0s 334ms/step - loss: 0.1165 - mean_squared_error: 0.0189 - mean_squared_logarithmic_error: 0.0054\n",
                        "1/1 [==============================] - 0s 337ms/step - loss: 0.0973 - mean_squared_error: 0.0156 - mean_squared_logarithmic_error: 0.0044\n",
                        "1/1 [==============================] - 0s 306ms/step - loss: 0.0945 - mean_squared_error: 0.0147 - mean_squared_logarithmic_error: 0.0041\n",
                        "1/1 [==============================] - 0s 304ms/step - loss: 0.1304 - mean_squared_error: 0.0296 - mean_squared_logarithmic_error: 0.0104\n"
                    ]
                }
            ],
            "metadata": {}
        }
    ],
    "metadata": {
        "orig_nbformat": 4,
        "language_info": {
            "name": "python",
            "version": "3.9.5",
            "mimetype": "text/x-python",
            "codemirror_mode": {
                "name": "ipython",
                "version": 3
            },
            "pygments_lexer": "ipython3",
            "nbconvert_exporter": "python",
            "file_extension": ".py"
        },
        "kernelspec": {
            "name": "python3",
            "display_name": "Python 3.9.5 64-bit ('google': conda)"
        },
        "interpreter": {
            "hash": "04b322b04a11552240b2f4f8e8c4a475f614a960ee047c69be7c3988f5002b11"
        }
    },
    "nbformat": 4,
    "nbformat_minor": 2
}