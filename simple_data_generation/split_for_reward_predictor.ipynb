{
    "cells": [
        {
            "cell_type": "code",
            "execution_count": 2,
            "source": [
                "import pandas as pd\n",
                "from sklearn.model_selection import train_test_split\n",
                "import os\n",
                "directory = \"user_features\"\n",
                "data = pd.read_csv(os.path.join(directory,\"data.csv\"))\n",
                "series_id_column = \"user_id\"\n",
                "time_column = \"time\"\n",
                "X= data[series_id_column].drop_duplicates()\n",
                "def _id_selection(ids):\n",
                "    keys= ids.values.tolist()\n",
                "    return pd.concat([data.loc[(data[series_id_column] == key).values] for key in keys],\n",
                "        ignore_index=True)\n",
                "X_train, X_test= train_test_split(X, test_size=0.2, random_state=1)\n",
                "train_dataset = _id_selection(X_train)  \n",
                "train_dataset.sort_values(time_column, inplace=True)\n",
                "test_dataset = _id_selection(X_test)\n",
                "test_dataset.sort_values(time_column, inplace=True)\n",
                "train_dataset.to_csv(os.path.join(directory,\"train.csv\"))\n",
                "test_dataset.to_csv(os.path.join(directory,\"test.csv\"))"
            ],
            "outputs": [],
            "metadata": {}
        },
        {
            "cell_type": "code",
            "execution_count": 27,
            "source": [
                "# import pandas as pd\n",
                "# test_dataset = pd.read_csv('user_features/data.csv')\n",
                "# series_id_column = 'user_id'\n",
                "# test_dataset.sort_values('user_id', inplace=True)"
            ],
            "outputs": [],
            "metadata": {}
        },
        {
            "cell_type": "code",
            "execution_count": 29,
            "source": [
                "state_columns = [\"VariableName.sbp\", \"VariableName.dbp\", \"VariableName.salt_intake\", \"VariableName.step_count\", \"VariableName.sleep_duration\", \"category\"]\n",
                "keys = []\n",
                "for column in state_columns:\n",
                "    for i in range(6):\n",
                "        keys.append(column + \"_\" + str(i))\n",
                "ret_d = {key:[] for key in keys}\n",
                "ret_d[\"reward\"] = []\n",
                "ret_d[\"nudge\"] = []\n",
                "for _, df in test_dataset.groupby(series_id_column):\n",
                "    # 8:14\n",
                "    # 22:28\n",
                "    state_column_mapping = {}\n",
                "    for idx, column in enumerate(list(df.columns)):\n",
                "        state_column_mapping[column] = idx\n",
                "\n",
                "    for column in state_columns:\n",
                "        for time in range(6):\n",
                "            ret_d[column+\"_\"+str(time)].append(df.iloc[time+8,state_column_mapping[column]])\n",
                "    ret_d[\"reward\"].append(df.iloc[18, state_column_mapping[\"VariableName.sbp\"]] - df.iloc[13, state_column_mapping[\"VariableName.sbp\"]])\n",
                "    ret_d[\"nudge\"].append(df.iloc[14, state_column_mapping[\"nudge\"]]-1)\n",
                "    \n",
                "    for column in state_columns:\n",
                "        for time in range(6):\n",
                "            ret_d[column+\"_\"+str(time)].append(df.iloc[time+22, state_column_mapping[column]])\n",
                "    ret_d[\"reward\"].append(df.iloc[32, state_column_mapping[\"VariableName.sbp\"]] - df.iloc[27, state_column_mapping[\"VariableName.sbp\"]])\n",
                "    ret_d[\"nudge\"].append(df.iloc[28, state_column_mapping[\"nudge\"]]-1)\n",
                "\n",
                "newdf = pd.DataFrame(ret_d)\n",
                "newdf[\"sampling_policy_0\"] = 0.5\n",
                "newdf[\"sampling_policy_1\"] = 0.5"
            ],
            "outputs": [],
            "metadata": {}
        },
        {
            "cell_type": "code",
            "execution_count": 34,
            "source": [
                "newdf.to_csv(\"user_features/test_reward_predictor.csv\")"
            ],
            "outputs": [],
            "metadata": {}
        }
    ],
    "metadata": {
        "orig_nbformat": 4,
        "language_info": {
            "name": "python",
            "version": "3.9.5",
            "mimetype": "text/x-python",
            "codemirror_mode": {
                "name": "ipython",
                "version": 3
            },
            "pygments_lexer": "ipython3",
            "nbconvert_exporter": "python",
            "file_extension": ".py"
        },
        "kernelspec": {
            "name": "python3",
            "display_name": "Python 3.9.5 64-bit ('google': conda)"
        },
        "interpreter": {
            "hash": "04b322b04a11552240b2f4f8e8c4a475f614a960ee047c69be7c3988f5002b11"
        }
    },
    "nbformat": 4,
    "nbformat_minor": 2
}